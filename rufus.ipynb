{
 "cells": [
  {
   "cell_type": "code",
   "execution_count": 1,
   "metadata": {},
   "outputs": [],
   "source": [
    "import rufus\n",
    "from rufus import *\n",
    "\n",
    "ruf = Rufus()"
   ]
  },
  {
   "cell_type": "code",
   "execution_count": 2,
   "metadata": {},
   "outputs": [],
   "source": [
    "url = 'https://www.sf.gov'\n",
    "query = \"Tell me about the local government of san fransisco. Give me information about some representatives\"\n",
    "url1 = 'https://www.ncsu.edu'\n",
    "query1 = \"Tell me about application requirements for Masters of Science in Computer Science\""
   ]
  },
  {
   "cell_type": "code",
   "execution_count": 11,
   "metadata": {},
   "outputs": [
    {
     "name": "stdout",
     "output_type": "stream",
     "text": [
      "The City and County of San Francisco's government is led by the Mayor, currently London Breed, who is the head of the executive branch. The legislative body is the 11-member Board of Supervisors, which acts as both a board and a city council. Each supervisor represents a specific district within the city. \n",
      "\n",
      "The current Board of Supervisors, as of 2022, are:\n",
      "1. Connie Chan (District 1)\n",
      "2. Catherine Stefani (District 2)\n",
      "3. Aaron Peskin (District 3) - President of the Board\n",
      "4. Joel Engardio (District 4)\n",
      "5. Dean Preston (District 5)\n",
      "6. Matt Dorsey (District 6)\n",
      "7. Myrna Melgar (District 7)\n",
      "8. Rafael Mandelman (District 8)\n",
      "9. Hillary Ronen (District 9)\n",
      "10. Shamann Walton (District 10)\n",
      "11. Ahsha Safaí (District 11)\n",
      "\n",
      "Other city officials include:\n",
      "- Assessor-Recorder: Joaquín Torres\n",
      "- City Attorney: David Chiu\n",
      "- District Attorney: Brooke Jenkins\n",
      "- Public Defender: Manohar Raju\n",
      "- Sheriff: Paul Miyamoto\n",
      "- Treasurer and Tax Collector: José Cisneros\n",
      "\n",
      "The city government also includes numerous departments and agencies, such as the San Francisco Public Library, San Francisco Recreation & Parks Department, and the San Francisco Municipal Transportation Agency, each overseen by their respective directors.\n",
      "\n",
      "The city operates under a strong mayor system, with the mayor responsible for enforcing city laws, administering departments, and preparing the city budget. The Board of Supervisors passes laws, budgets, and appoints certain officers. Supervisors are elected for four-year terms and the mayor for a term of four years, with both limited to two successive terms. \n",
      "\n",
      "San Francisco's municipal elections are non-partisan, though supervisors are predominantly Democrats. Elections for half the board are held every two years, with voters choosing supervisors from eleven districts using instant-runoff voting.\n"
     ]
    },
    {
     "data": {
      "text/plain": [
       "\"The City and County of San Francisco's government is led by the Mayor, currently London Breed, who is the head of the executive branch. The legislative body is the 11-member Board of Supervisors, which acts as both a board and a city council. Each supervisor represents a specific district within the city. \\n\\nThe current Board of Supervisors, as of 2022, are:\\n1. Connie Chan (District 1)\\n2. Catherine Stefani (District 2)\\n3. Aaron Peskin (District 3) - President of the Board\\n4. Joel Engardio (District 4)\\n5. Dean Preston (District 5)\\n6. Matt Dorsey (District 6)\\n7. Myrna Melgar (District 7)\\n8. Rafael Mandelman (District 8)\\n9. Hillary Ronen (District 9)\\n10. Shamann Walton (District 10)\\n11. Ahsha Safaí (District 11)\\n\\nOther city officials include:\\n- Assessor-Recorder: Joaquín Torres\\n- City Attorney: David Chiu\\n- District Attorney: Brooke Jenkins\\n- Public Defender: Manohar Raju\\n- Sheriff: Paul Miyamoto\\n- Treasurer and Tax Collector: José Cisneros\\n\\nThe city government also includes numerous departments and agencies, such as the San Francisco Public Library, San Francisco Recreation & Parks Department, and the San Francisco Municipal Transportation Agency, each overseen by their respective directors.\\n\\nThe city operates under a strong mayor system, with the mayor responsible for enforcing city laws, administering departments, and preparing the city budget. The Board of Supervisors passes laws, budgets, and appoints certain officers. Supervisors are elected for four-year terms and the mayor for a term of four years, with both limited to two successive terms. \\n\\nSan Francisco's municipal elections are non-partisan, though supervisors are predominantly Democrats. Elections for half the board are held every two years, with voters choosing supervisors from eleven districts using instant-runoff voting.\""
      ]
     },
     "execution_count": 11,
     "metadata": {},
     "output_type": "execute_result"
    }
   ],
   "source": [
    "ruf.crawl_web(query)"
   ]
  },
  {
   "cell_type": "code",
   "execution_count": 25,
   "metadata": {},
   "outputs": [],
   "source": [
    "res = ruf.scrape_url(url)"
   ]
  },
  {
   "cell_type": "code",
   "execution_count": 3,
   "metadata": {},
   "outputs": [
    {
     "name": "stdout",
     "output_type": "stream",
     "text": [
      "NC State University offers more than 200 master's, doctoral and graduate certificate programs. To apply for a Master of Science in Computer Science, you must first complete your undergraduate studies in a relevant field. \n",
      "\n",
      "NC State suggests that prospective students review application deadlines and confirm program requirements before applying. The university considers applications for admission on a rolling basis, but it recommends that you submit your application by December 15 for the following fall's intake. \n",
      "\n",
      "You'll need to provide official transcripts from all institutions you have attended, showing a minimum GPA of 3.0 (on a 4.0 scale). International students must also submit scores from the Test of English as a Foreign Language (TOEFL) with a minimum of 88 on the internet-based test. \n",
      "\n",
      "You should also prepare three letters of recommendation from professors who can attest to your academic ability and research potential. In addition, you'll need to write a statement of purpose outlining your professional goals, explaining how the Master of Science in Computer Science at NC State will help you achieve them. Finally, you'll need to submit a resume or CV showcasing relevant work experience and any published papers or projects. \n",
      "\n",
      "Once your application is complete, it will be reviewed by the admissions committee, considering your past academic performance, letters of recommendation, and your statement of purpose. \n",
      "\n",
      "If you are a non-US citizen, there are additional requirements, including certification of financial support and a visa. NC State has an FAQ page dedicated to helping international students navigate the application process.\n"
     ]
    }
   ],
   "source": [
    "res = ruf.deep_scrape_url(url1,query1)"
   ]
  },
  {
   "cell_type": "code",
   "execution_count": null,
   "metadata": {},
   "outputs": [],
   "source": []
  }
 ],
 "metadata": {
  "kernelspec": {
   "display_name": "Python 3.9.12 ('base')",
   "language": "python",
   "name": "python3"
  },
  "language_info": {
   "codemirror_mode": {
    "name": "ipython",
    "version": 3
   },
   "file_extension": ".py",
   "mimetype": "text/x-python",
   "name": "python",
   "nbconvert_exporter": "python",
   "pygments_lexer": "ipython3",
   "version": "3.9.12"
  },
  "orig_nbformat": 4,
  "vscode": {
   "interpreter": {
    "hash": "3944adbe1e3ec156c0f5795bdbd105db64d247bd9fdfcaf876cad111492de9f3"
   }
  }
 },
 "nbformat": 4,
 "nbformat_minor": 2
}
