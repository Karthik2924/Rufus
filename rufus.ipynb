{
 "cells": [
  {
   "cell_type": "code",
   "execution_count": 22,
   "metadata": {},
   "outputs": [],
   "source": [
    "import scraper,crawl\n",
    "from scraper import *\n",
    "from crawl import *\n",
    "import json\n",
    "import cohere\n",
    "from dotenv import load_dotenv, dotenv_values \n",
    "load_dotenv()\n",
    "import os\n",
    "\n",
    "class Rufus(Crawler,Scraper):\n",
    "    def __init__(self,model = 'command-r'):\n",
    "        '''\n",
    "        This class is an interface for different methods to scrape the web.\n",
    "        Todo : add api client code here\n",
    "        '''\n",
    "        # Add cohere generation here\n",
    "        load_dotenv()\n",
    "        self.co = cohere.Client(api_key=os.environ['COHERE_API_KEY'])\n",
    "        \n",
    "        self.model = model\n",
    "        # response = self.co.chat(\n",
    "        #         model=self.model,\n",
    "        #         message = \"What is machine Learning\"\n",
    "        #         )\n",
    "        \n",
    "        #Can do Api authentication for Rufus aswell, Currently this part doesn't work\n",
    "        # TO DO\n",
    "        self.id = 'xyz'\n",
    "    \n",
    "    def scrape_url(self,url, handle_exception = True):\n",
    "        self.scraper = Scraper(url,handle_exception)\n",
    "        context_from_url = self.scraper.get_visible_text()\n",
    "        res = self.clean_crawled_data(context_from_url)\n",
    "        return {\"cleaned_data\": res , \"raw_data\": context_from_url}\n",
    "    \n",
    "    def deep_scrape_url(self,url,query = None,relavance_method = 'dpr', max_links = 10, topk = 5, depth = 3):\n",
    "        self.deep_scraper = deep_scrape(url = url,query = query,\n",
    "                                        relavance_method = relavance_method,depth = depth,\n",
    "                                        max_links = max_links,topk = topk)\n",
    "        self.deep_scraper.recursive_scrape()\n",
    "        context = \" \"\n",
    "        for k,v in self.deep_scraper.data_store.items():\n",
    "            context += v + ' '\n",
    "        return self.generate_answer(query,context,True,False)\n",
    "        #return context\n",
    "    \n",
    "    def crawl_web(self,query,num_queries = 5):\n",
    "        self.crawler = Crawler(query,num_queries=num_queries)\n",
    "        context = self.crawler.get_data()\n",
    "        return self.generate_answer(query,context,True,False)\n",
    "        \n",
    "    def clean_crawled_data(self,text):\n",
    "        response = self.co.chat(\n",
    "                    model=self.model,\n",
    "                    message = text + '''Above is the text obtained from web scraping. \n",
    "                    Clean the above data so that it can be viewed by humans or could act as context for a Large language model.'''\n",
    "                    )\n",
    "        return response.text\n",
    "    \n",
    "    def generate_answer(self,query,context,print_ = True,clean_data=False):\n",
    "        response = self.co.chat(\n",
    "            model=self.model,\n",
    "            message = context + '''Above is the context obtained by scraping multiple webpages, process it appropriately and answer the query. Query = ''' + query\n",
    "            )\n",
    "        if print_:\n",
    "            print(response.text)\n",
    "        return response.text\n",
    "        "
   ]
  },
  {
   "cell_type": "code",
   "execution_count": 1,
   "metadata": {},
   "outputs": [],
   "source": [
    "import rufus\n",
    "from rufus import *\n",
    "\n",
    "ruf = Rufus()"
   ]
  },
  {
   "cell_type": "code",
   "execution_count": 2,
   "metadata": {},
   "outputs": [],
   "source": [
    "url = 'https://www.sf.gov'\n",
    "query = \"Tell me about the local government of san fransisco. Give me information about some representatives\"\n"
   ]
  },
  {
   "cell_type": "code",
   "execution_count": 11,
   "metadata": {},
   "outputs": [
    {
     "name": "stdout",
     "output_type": "stream",
     "text": [
      "The City and County of San Francisco's government is led by the Mayor, currently London Breed, who is the head of the executive branch. The legislative body is the 11-member Board of Supervisors, which acts as both a board and a city council. Each supervisor represents a specific district within the city. \n",
      "\n",
      "The current Board of Supervisors, as of 2022, are:\n",
      "1. Connie Chan (District 1)\n",
      "2. Catherine Stefani (District 2)\n",
      "3. Aaron Peskin (District 3) - President of the Board\n",
      "4. Joel Engardio (District 4)\n",
      "5. Dean Preston (District 5)\n",
      "6. Matt Dorsey (District 6)\n",
      "7. Myrna Melgar (District 7)\n",
      "8. Rafael Mandelman (District 8)\n",
      "9. Hillary Ronen (District 9)\n",
      "10. Shamann Walton (District 10)\n",
      "11. Ahsha Safaí (District 11)\n",
      "\n",
      "Other city officials include:\n",
      "- Assessor-Recorder: Joaquín Torres\n",
      "- City Attorney: David Chiu\n",
      "- District Attorney: Brooke Jenkins\n",
      "- Public Defender: Manohar Raju\n",
      "- Sheriff: Paul Miyamoto\n",
      "- Treasurer and Tax Collector: José Cisneros\n",
      "\n",
      "The city government also includes numerous departments and agencies, such as the San Francisco Public Library, San Francisco Recreation & Parks Department, and the San Francisco Municipal Transportation Agency, each overseen by their respective directors.\n",
      "\n",
      "The city operates under a strong mayor system, with the mayor responsible for enforcing city laws, administering departments, and preparing the city budget. The Board of Supervisors passes laws, budgets, and appoints certain officers. Supervisors are elected for four-year terms and the mayor for a term of four years, with both limited to two successive terms. \n",
      "\n",
      "San Francisco's municipal elections are non-partisan, though supervisors are predominantly Democrats. Elections for half the board are held every two years, with voters choosing supervisors from eleven districts using instant-runoff voting.\n"
     ]
    },
    {
     "data": {
      "text/plain": [
       "\"The City and County of San Francisco's government is led by the Mayor, currently London Breed, who is the head of the executive branch. The legislative body is the 11-member Board of Supervisors, which acts as both a board and a city council. Each supervisor represents a specific district within the city. \\n\\nThe current Board of Supervisors, as of 2022, are:\\n1. Connie Chan (District 1)\\n2. Catherine Stefani (District 2)\\n3. Aaron Peskin (District 3) - President of the Board\\n4. Joel Engardio (District 4)\\n5. Dean Preston (District 5)\\n6. Matt Dorsey (District 6)\\n7. Myrna Melgar (District 7)\\n8. Rafael Mandelman (District 8)\\n9. Hillary Ronen (District 9)\\n10. Shamann Walton (District 10)\\n11. Ahsha Safaí (District 11)\\n\\nOther city officials include:\\n- Assessor-Recorder: Joaquín Torres\\n- City Attorney: David Chiu\\n- District Attorney: Brooke Jenkins\\n- Public Defender: Manohar Raju\\n- Sheriff: Paul Miyamoto\\n- Treasurer and Tax Collector: José Cisneros\\n\\nThe city government also includes numerous departments and agencies, such as the San Francisco Public Library, San Francisco Recreation & Parks Department, and the San Francisco Municipal Transportation Agency, each overseen by their respective directors.\\n\\nThe city operates under a strong mayor system, with the mayor responsible for enforcing city laws, administering departments, and preparing the city budget. The Board of Supervisors passes laws, budgets, and appoints certain officers. Supervisors are elected for four-year terms and the mayor for a term of four years, with both limited to two successive terms. \\n\\nSan Francisco's municipal elections are non-partisan, though supervisors are predominantly Democrats. Elections for half the board are held every two years, with voters choosing supervisors from eleven districts using instant-runoff voting.\""
      ]
     },
     "execution_count": 11,
     "metadata": {},
     "output_type": "execute_result"
    }
   ],
   "source": [
    "ruf.crawl_web(query)"
   ]
  },
  {
   "cell_type": "code",
   "execution_count": 25,
   "metadata": {},
   "outputs": [],
   "source": [
    "res = ruf.scrape_url(url)"
   ]
  },
  {
   "cell_type": "code",
   "execution_count": 26,
   "metadata": {},
   "outputs": [
    {
     "data": {
      "text/plain": [
       "{'cleaned_data': \"The City and County of San Francisco: A Guide\\n\\n- **Services**: Job opportunities, business resources, construction permits, disability services, food assistance, government records, health services, homelessness aid, housing, and more.\\n\\n- **Activities and Attractions**: Things to do in San Francisco, including events, sightseeing, and cultural experiences.\\n\\n- **Elected Officials**:\\n    - London Breed: Mayor\\n    - Aaron Peskin: President of the Board, Supervisor District 3\\n    - District Supervisors: Connie Chan (Dist 1), Catherine Stefani (Dist 2), Joel Engardio (Dist 4), Dean Preston (Dist 5), Matt Dorsey (Dist 6), Myrna Melgar (Dist 7), Rafael Mandelman (Dist 8), Hillary Ronen (Dist 9), Shamann Walton (Dist 10), Ahsha Safai (Dist 11)\\n    - Elected Officers: Manohar Raju (Public Defender), Brooke Jenkins (District Attorney), Paul Miyamoto (Sheriff), José Cisneros (Treasurer), Joaquín Torres (Assessor-Recorder), David Chiu (City Attorney)\\n\\n- **Board of Supervisors**: Responsible for establishing policies and adopting legislation to address constituent needs. Each supervisor represents a district.\\n\\n- **JavaScript requirement and Feedback**: Some features require JavaScript; users can call 311 for assistance. Feedback on the page is welcome but cannot be responded to individually.\\n\\n- **Recent News**:\\n    - Town Hall Meeting on September 13, 2024.\\n    - Genny Lim is named San Francisco's Poet Laureate.\\n    - The Department of Elections focuses on youth engagement for the November 5th election.\\n    - Mayor Breed inaugurates an affordable housing project in the Excelsior District.\\n\\nThis summary provides a snapshot of the City and County of San Francisco's essential information, services, and recent news. For more details, explore the city's official websites or use the 311 information line.\",\n",
       " 'raw_data': \"City and County of San Francisco Skip to main content English Español 中文 Filipino Menu Services Departments Search Latest Find jobs with the City Join us! “Sunset over City Hall” by Sergio Ruiz , CC BY Services Activities Things to do in San Francisco. Building Construction resources and property information. Business Starting, owning, and closing a business. Disability Services and resources for the disability community in San Francisco. Food Get free or low-cost food, meals and find local food pantries. Government Get personal records, pay taxes or fines, work or volunteer with the City. Health Getting medical care, insurance and mental health support. Homelessness Find City and external resources for people experiencing homelessness. Housing Finding and staying in housing. Immigrants Resources and programs helpful to immigrants. Jobs Find jobs, fellowships, and internships with the City of San Francisco. Problems and complaints Tell us about issues. Safety Personal safety and preparedness. Transportation Driving, parking, buses, Muni, and paratransit. News Notice of Town Hall Meeting September 13, 2024 Mayor London Breed Names Genny Lim as San Francisco's Poet Laureate September 6, 2024 The Department of Elections Enhances Youth Engagement for the November 5 Election September 6, 2024 Mayor London Breed Celebrates the Grand Opening of New 100% Affordable Housing Project in San Francisco's Excelsior District September 5, 2024 See more news Elected Officials 2,1 London Breed Mayor London Nicole Breed is the 45th mayor of the City and County of San Francisco. Mayor Breed is the first African-American woman Mayor in San Francisco’s history. Board of Supervisors 2,1 Aaron Peskin President of the Board, Supervisor District 3 2,1 Connie Chan Supervisor District 1 2,1 Catherine Stefani Supervisor District 2 2,1 Joel Engardio Supervisor District 4 2,1 Dean Preston Supervisor District 5 2,1 Matt Dorsey Supervisor District 6 2,1 Myrna Melgar Supervisor District 7 2,1 Rafael Mandelman Supervisor District 8 2,1 Hillary Ronen Supervisor District 9 2,1 Shamann Walton Supervisor District 10 2,1 Ahsha Safai Supervisor District 11 The Board establishes policy and adopts legislation to meet constituents' needs. Find your supervisor Elected Officers 2,1 Manohar Raju Public Defender 2,1 Brooke Jenkins District Attorney 2,1 Paul Miyamoto Sheriff 2,1 José Cisneros Treasurer 2,1 Joaquín Torres Assessor-Recorder 2,1 David Chiu San Francisco City Attorney You must have JavaScript enabled to use this form. Was this page helpful? Yes No Report something wrong with this page Yes What was helpful about this page? We cannot reply individually to all feedback. If you need assistance, call 311. No What's wrong with this page? We cannot reply individually to all feedback. If you need assistance, call 311. Report something wrong with this page What's wrong with this page? We cannot reply individually to all feedback. If you need assistance, call 311. Leave this field blank Footer menu Jobs with the City Contact us About this website Footer Bottom Disclaimer Privacy policy City and County of San Francisco Back to top\"}"
      ]
     },
     "execution_count": 26,
     "metadata": {},
     "output_type": "execute_result"
    }
   ],
   "source": [
    "res"
   ]
  },
  {
   "cell_type": "code",
   "execution_count": 3,
   "metadata": {},
   "outputs": [
    {
     "name": "stdout",
     "output_type": "stream",
     "text": [
      "The City and County of San Francisco's government is divided into various departments and public bodies that work together to manage the city. Here are some of the key representatives of the San Francisco government:\n",
      "\n",
      "- Mayor: London Breed is the 45th and current Mayor of San Francisco. She is the first African-American woman to hold this position. The Mayor is responsible for the overall management and operation of the city's government.\n",
      "\n",
      "- Board of Supervisors: The legislative branch of the city, consisting of 11 members, each representing a different district. The current President of the Board is Aaron Peskin, who represents District 3. The Board establishes policies and adopts legislation to address the needs of the city and its constituents.\n",
      "\n",
      "- District Attorney: Brooke Jenkins serves as the District Attorney for San Francisco. The District Attorney's office prosecutes criminal cases and provides legal advice to city government agencies.\n",
      "\n",
      "- Public Defender: Manohar Raju is the Public Defender, responsible for protecting and defending the rights of indigent clients accused of crimes.\n",
      "\n",
      "- Sheriff: Paul Miyamoto is the Sheriff of San Francisco, overseeing law enforcement activities within the city, including court security and jail management.\n",
      "\n",
      "- Treasurer & Tax Collector: José Cisneros is the Treasurer and Tax Collector, responsible for managing the city's finances, including collecting taxes and managing investments.\n",
      "\n",
      "- Assessor-Recorder: Joaquín Torres is the Assessor-Recorder, responsible for evaluating and recording the taxable value of property in San Francisco.\n",
      "\n",
      "- City Attorney: David Chiu is the City Attorney, responsible for providing legal services to the city's government agencies and officials.\n",
      "\n",
      "These are just a few of the key representatives in the San Francisco government. There are many other appointed officials and public bodies that play a role in governing the city, including the Board of Appeals, the Planning Commission, the Recreation and Park Commission, and many more.\n"
     ]
    }
   ],
   "source": [
    "res = ruf.deep_scrape_url(url,query)"
   ]
  },
  {
   "cell_type": "code",
   "execution_count": null,
   "metadata": {},
   "outputs": [],
   "source": []
  }
 ],
 "metadata": {
  "kernelspec": {
   "display_name": "Python 3.9.12 ('base')",
   "language": "python",
   "name": "python3"
  },
  "language_info": {
   "codemirror_mode": {
    "name": "ipython",
    "version": 3
   },
   "file_extension": ".py",
   "mimetype": "text/x-python",
   "name": "python",
   "nbconvert_exporter": "python",
   "pygments_lexer": "ipython3",
   "version": "3.9.12"
  },
  "orig_nbformat": 4,
  "vscode": {
   "interpreter": {
    "hash": "3944adbe1e3ec156c0f5795bdbd105db64d247bd9fdfcaf876cad111492de9f3"
   }
  }
 },
 "nbformat": 4,
 "nbformat_minor": 2
}
