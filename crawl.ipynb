{
 "cells": [
  {
   "cell_type": "code",
   "execution_count": 1,
   "metadata": {},
   "outputs": [],
   "source": [
    "import bs4 as bs\n",
    "from requests_html import HTMLSession\n",
    "import requests\n",
    "import urllib.request\n",
    "from googlesearch import search\n",
    "import scraper\n",
    "from scraper import *\n",
    "\n",
    "\n",
    "# def get_urls(query,num_results = 5):\n",
    "#     return list(search(term = query,num_results=num_results))\n"
   ]
  },
  {
   "cell_type": "code",
   "execution_count": 2,
   "metadata": {},
   "outputs": [],
   "source": [
    "query = \"San fransisco government website\"\n",
    "#urls = get_urls(query)"
   ]
  },
  {
   "cell_type": "code",
   "execution_count": 27,
   "metadata": {},
   "outputs": [
    {
     "data": {
      "text/plain": [
       "5"
      ]
     },
     "execution_count": 27,
     "metadata": {},
     "output_type": "execute_result"
    }
   ],
   "source": [
    "len(urls)"
   ]
  },
  {
   "cell_type": "code",
   "execution_count": 23,
   "metadata": {},
   "outputs": [
    {
     "data": {
      "text/plain": [
       "['http://www.sf.gov/',\n",
       " 'http://www.sf.gov/',\n",
       " 'https://www.sfgov.org/open-gov',\n",
       " 'https://www.sfgov.org/sfc/employee-gateway',\n",
       " 'https://en.wikipedia.org/wiki/Government_of_San_Francisco']"
      ]
     },
     "execution_count": 23,
     "metadata": {},
     "output_type": "execute_result"
    }
   ],
   "source": [
    "urls"
   ]
  },
  {
   "cell_type": "code",
   "execution_count": 15,
   "metadata": {},
   "outputs": [],
   "source": [
    "import bs4 as bs\n",
    "from requests_html import HTMLSession\n",
    "import requests\n",
    "import urllib.request\n",
    "from googlesearch import search\n",
    "import scraper\n",
    "from scraper import *\n",
    "\n",
    "\n",
    "class Crawler(scraper.deep_scrape):\n",
    "    def __init__(self,query,num_queries = 5,relavance_method = 'dpr'):\n",
    "        self.query = query\n",
    "        self.num_queries = num_queries\n",
    "        self.urls = self.get_urls(query,num_queries)\n",
    "        super().__init__(url = self.urls[0],query = self.query, relavance_method=relavance_method,depth = 1, max_links=num_queries,topk = num_queries)\n",
    "        self.stack = self.urls\n",
    "\n",
    "    def get_urls(self,query,num_results = 5):\n",
    "        return list(search(term = query,num_results=num_results))\n",
    "    \n",
    "    def get_data(self):\n",
    "        self.recursive_scrape()\n",
    "        context = \" \"\n",
    "        for k,v in self.data_store.items():\n",
    "            context += v + ' '\n",
    "        return context\n"
   ]
  },
  {
   "cell_type": "code",
   "execution_count": 16,
   "metadata": {},
   "outputs": [],
   "source": [
    "crawler = Crawler(query)"
   ]
  },
  {
   "cell_type": "code",
   "execution_count": 17,
   "metadata": {},
   "outputs": [],
   "source": [
    "text_data = crawler.get_data()"
   ]
  },
  {
   "cell_type": "code",
   "execution_count": 18,
   "metadata": {},
   "outputs": [
    {
     "name": "stdout",
     "output_type": "stream",
     "text": [
      " Government of San Francisco - Wikipedia Jump to content Main menu Main menu move to sidebar hide Navigation Main page Contents Current events Random article About Wikipedia Contact us Donate Contribute Help Learn to edit Community portal Recent changes Upload file Search Search Appearance Create account Log in Personal tools Create account Log in Pages for logged out editors learn more Contributions Talk Contents move to sidebar hide (Top) 1 Organization Toggle Organization subsection 1.1 Mayor 1.2 Board of supervisors 1.3 Other elected officers 1.4 Departments and agencies 2 Finance Toggle Finance subsection 2.1 Taxes 2.2 Budget 3 Municipal law 4 Health Commission Toggle Health Commission subsection 4.1 San Francisco plague of 1900–1904 5 Education 6 Regional governments 7 State and federal police agencies 8 Political parties Toggle Political parties subsection 8.1 Democratic Party 8.2 Republican Party 8.3 Libertarian Party 8.4 Green Party 9 See also 10 References 11 External links Toggle the table of contents Government of San Francisco 1 language Español Edit links Article Talk English Read Edit View history Tools Tools move to sidebar hide Actions Read Edit View history General What links here Related changes Upload file Special pages Permanent link Page information Cite this page Get shortened URL Download QR code Wikidata item Print/export Download as PDF Printable version In other projects Wikimedia Commons Appearance move to sidebar hide From Wikipedia, the free encyclopedia Government of the City and County of San Francisco Seal of San Francisco Formation April 15, 1850 ; 174 years ago ( 1850-04-15 ) Website sf .gov City-wide elected officials City Attorney City Attorney of San Francisco Public Defender San Francisco Public Defender's Office Legislative branch Legislature San Francisco Board of Supervisors Meeting place San Francisco City Hall Executive branch Mayor San Francisco Mayor Appointed by Election Judicial branch Seat San Francisco County Superior Courthouse The government of the City and County of San Francisco utilizes the \" strong mayor \" form of mayoral/council government, composed of the Mayor , Board of Supervisors, several elected officers, and numerous other entities. It is the only consolidated city-county in California, and one of only thirteen charter counties of California . [ 1 ] The fiscal year 2019–20 city and county budget was approximately $12.3 billion. [ 2 ] Organization [ edit ] San Francisco utilizes the \" strong mayor \" form of mayoral/council government, composed of the mayor, Board of Supervisors, several elected officers, and numerous other entities. San Francisco voters use ranked-choice voting to elect the mayor, supervisors, and other elective officers. [ 3 ] Mayor [ edit ] Further information: Mayor of San Francisco § List London Breed , the mayor of San Francisco as of 2022 The Mayor of San Francisco is the head of the executive branch of the city and county government. The mayor has the responsibility to enforce all city laws, administer and coordinate city departments and intergovernmental activities, set forth policies and agendas to the Board of Supervisors, and prepare and submit the city budget at the end of each fiscal year. The mayor has the powers to either approve or veto bills passed by the San Francisco Board of Supervisors, participate in meetings of the Board of Supervisors and its committees, appoint a replacement to fill vacancies in all city elected offices until elections, appoint a member of the Board as acting mayor in his/her absence, and to direct personnel in the case of emergency. [ 4 ] The mayor serves a four-year term and is limited to two successive terms. [ 4 ] If the mayor dies or resigns, the President of the Board of Supervisors assumes the office as acting mayor.  This has occurred twice since the 1970s: Dianne Feinstein became acting mayor after the assassination of George Moscone in 1978, and London Breed became acting mayor following the death of Ed Lee from a heart attack in 2017. The current mayor as of 2022 [update] is London Breed . Board of supervisors [ edit ] See also: San Francisco Board of Supervisors and Members of the San Francisco Board of Supervisors San Francisco Board of Supervisors The legislative body is composed of the 11-member Board of Supervisors which acts as both a board of supervisors and a city council , with \"[a]ll rights and powers of a City and County which are not vested in another officer or entity\" by the charter. [ 5 ] The Board of Supervisors is headed by a president and is responsible for passing laws and budgets. The members of the Board of Supervisors are elected as representatives of specific districts within the city. [ 6 ] Other elected officers [ edit ] In addition, there are other citywide elected officers of San Francisco: [ 7 ] Assessor-Recorder: Joaquín Torres City Attorney of San Francisco : David Chiu San Francisco District Attorney : Brooke Jenkins San Francisco Public Defender : Manohar Raju Sheriff of San Francisco : Paul Miyamoto Treasurer and Tax Collector: José Cisneros Departments and agencies [ edit ] San Francisco Public Library San Francisco Public Utilities Commission San Francisco Recreation & Parks Department Entities under the authority of the Board of Supervisors include the: [ 8 ] [ 9 ] Assessment Appeals Board San Francisco County Transportation Authority San Francisco Youth Commission Clerk of the Board of Supervisors [ 10 ] Budget and Legislative Analyst Office of Legislative Analyst [ 11 ] San Francisco Local Agency Formation Commission Sunshine Ordinance Task Force Entities under the authority of the San Francisco County Superior Court include the: [ 8 ] Adult Probation Entities under the authority of the City Administrator include the: [ 8 ] Academy of Sciences San Francisco International Airport San Francisco Arts Commission Asian Art Museum Office of Economic and Workforce Development Department of Emergency Management Environment Commission Department of the Environment General Services Agency Animal Care and Control Convention Facilities Management County Clerk Medical Examiner San Francisco Department of Public Works Purchaser / Office of Contract Administration Real Estate Division Department of Technology Department of Children, Youth and Families Civil Service Commission Fine Arts Museums Fire Commission San Francisco Fire Department Health Commission Department of Public Health Human Resources San Francisco Human Rights Commission Human Services Agency Juvenile Probation Commission Juvenile Probation Department Law Library Board of Trustees Office of Transgender Initiatives [ 12 ] San Francisco Public Library San Francisco Municipal Transportation Agency Port of San Francisco San Francisco Public Utilities Commission Residential Rent Board Employees' Retirement System Recreation and Park Commission San Francisco Recreation & Parks Department Commission on the Status of Women Department on the Status of Women War Memorial Other independent/semi-independent public entities include the: [ 8 ] San Francisco Ethics Commission San Francisco Police Commission San Francisco Police Department City College of San Francisco San Francisco Housing Authority San Francisco Zoo Finance [ edit ] San Francisco City Hall Taxes [ edit ] As of November 2021, San Francisco's sales tax rate was 8.625% [ 13 ] distributed as follows: 7.25% – California State Sales Tax 6.00% – State 3.9375% – State – General Fund 0.50% – State – Local Public Safety Fund 0.50% – State – Local Revenue Fund for local health and social services 1.0625% – State – Local Revenue Fund (2011) 1.25% – Uniform Local Tax 0.25% – Local County – Transportation funds 1.00% – Local City/County – Operational funds 1.375% — City/County Local Taxes [ 14 ] 0.50% – AB 1077 (1977) — Bay Area Rapid Transit (BART) District: Bay Area Rapid Transit, San Francisco Municipal Railway , AC Transit [ 15 ] [ 16 ] 0.50% – Proposition K (2003) – 2009-2034: San Francisco County Transportation Authority [ 15 ] 0.125% – Measure RR (2020) – 2021-2051: 2020 Peninsula Corridor Joint Powers Board (Caltrain) Retail Transactions and Use Tax 0.25% – San Francisco County Public Finance Authority — San Francisco Unified School District and City College of San Francisco [ 17 ] Budget [ edit ] The fiscal year 2007-08 city and county budget is as follows: [ 18 ] Category Revenue Ratio Charges for services $1,808 M 29.7% Property taxes $1,186 M 19.5% State $707 M 11.6% Other local taxes $588 M 9.7% Federal $360 M 5.9% Business taxes $350 M 5.8% Rents and concessions $349 M 5.7% Fund balance from 2006 to 2007 $239 M 3.9% Fines and forfeitures $105 M 1.7% Interest and investment income $84 M 1.4% Licenses, permits, and franchises $36 M 0.6% Reserves drawdown $23 M 0.4% Other $244 M 4.0% Total $6,079 M 100% Category Expenditures Ratio Personnel $3.083 B 50.4% Non-personnel operating costs $1.438 B 23.7% Debt service $576 M 9.5% Capital and equipment $335 M 5.5% Grants $272 M 4.5% Aid assistance $271 M 4.5% Reserves and fund balance $69 M 1.1% Facility maintenance $35 M 0.6% Total $6,079 M 100% Category Personnel Ratio Public Works, Transportation, and Commerce 8,798 31.5% Public Protection 6,566 23.5% Public Health 6,196 22.2% General Administration and Finance 2,317 8.3% Human Welfare and Neighborhood Development 2,125 7.6% Culture and Recreation 1,883 6.8% Total 27,885 100% Municipal law [ edit ] See also: Law of California The government of the City and County of San Francisco is defined by the Charter of the City and County of San Francisco , which is similar to the other counties of California . Pursuant to its charter, San Francisco causes to be published several codified version of its ordinances and regulations, the San Francisco Municipal Codes . Every act prohibited or declared unlawful, and every failure to perform an act required, by the ordinances are misdemeanor crimes, unless otherwise specified as infractions . [ 19 ] [ 20 ] San Franciscans also make use of direct ballot initiatives to pass legislation. San Francisco's municipal authority extends beyond city/county limits through its operation of the San Francisco International Airport and the vast tracts of land supporting the Hetch Hetchy Water System . Health Commission [ edit ] Department of Public Health The Department of Public Health works through two Divisions of the government - the San Francisco Health Network and Population Health and Prevention. The San Francisco Health Networks includes the health system with locations at multiple hospitals and primary care centers. The Population Health and Prevention Division focuses on the communities in SF and consists of three branches - Community Health and Safety Branch, Community Health Promotion and Prevention Branch, and the Community Health Services Branch. [ 21 ] On June 25, 2019, San Francisco become the first major US city to ban Electronic cigarettes . [ 22 ] San Francisco plague of 1900–1904 [ edit ] Main article: San Francisco plague of 1900–1904 In the 1890s San Francisco received heavy ship traffic from Asian cities that were currently dealing with the bubonic plague. In 1889, a ship from Hong Kong was found to have two cases of bubonic plague on board. The bodies washed up on the bay later, but no immediate outbreak occurred at this initial finding. In 1900 a city health officer autopsied a Chinese man and found evidence of the plague. With anti-Chinese feelings already running rampant throughout the city, the Department of Public Health quickly moved to quarantine Chinatown. Initially the quarantine was protested, not to protect the Chinese, but because of fear and doubt that the plague was indeed in the city. The mayor at the time, James D. Phelan, created the Board of Health, which included multiple doctors on the board. He demanded the Board of Health have 100 physicians search a 12-block area in Chinatown for more cases of the plague. After victims were found, the Board of Health publicly announced the plague, and the Chinatown quarantine was again set into place. [ 23 ] [ 24 ] Health officials shut down Chinese-owned businesses, and any Chinese or Japanese people attempting to leave the city had to first go through an inoculation with an experimental prophylactic developed by Waldemar Haffkine . This led to a court case between Chinatown resident Wong Wai and the Department of Public Health. Wai won the court case and the Department of Public Health was ordered to stop the inoculations, but city officials got support from the Board of Supervisors to continue. [ 25 ] Health authorities also attempted to set up a detention camp for those of Asian descent in Mission Rock , but the idea was protested and canceled, partially due to fear about openly admitting the plague in San Francisco. [ 24 ] Fear of the plague and prejudice against Chinese was so high that many city officials debated burning down Chinatown. The idea popular, especially since this had been done in Honolulu. To prevent their homes from being burnt down and break the quarantine, the Chinese rallied the Chinese Six Companies, multiple attorneys, and China's diplomat. Together, they were ultimately able to get the quarantine lifted again. This was again in part due to the government's fear of publicly confirming plague. [ 25 ] Health authorities from 21 states eventually passed a resolution about California's neglect of duties to address the plague in San Francisco and threatened to close all trade with California. San Francisco businessmen reacted by assembling the Chamber of Commerce, Board of Trade, Merchants’ Association, Marine Hospital Service, new mayor George C. Pardee and various and civil rights groups to clear San Francisco of the plague. [ 24 ] Education [ edit ] There are several school districts that are co-extensive with San Francisco. The San Francisco Unified School District is governed by the elected seven-member San Francisco Board of Education . The community college district of the City College of San Francisco is governed by an elected seven-member Board of Trustees. Regional governments [ edit ] In addition, several regional governmental units in San Francisco operate independently of the municipal government. Five regional agencies—the Association of Bay Area Governments , Metropolitan Transportation Commission , Bay Area Air Quality Management District , San Francisco Bay Regional Water Quality Control Board, and Bay Conservation and Development Commission —have jurisdiction over San Francisco and the other Bay Area counties, and San Francisco appoints representatives to their governing boards. Several transit agencies provide transit service within San Francisco and adjacent counties, including the Bay Area Rapid Transit (BART), of which residents elect Board of Directors for districts 7, 8, and 9, Golden Gate Transit , Caltrain , the San Francisco Bay Area Water Emergency Transportation Authority , and the Metropolitan Transportation Commission . State and federal police agencies [ edit ] Also notable are the independent police forces of the University of California, San Francisco and the Park Police of the Presidio Trust and the Golden Gate National Recreation Area . Political parties [ edit ] Democratic Party [ edit ] The San Francisco Democratic Central Committee (SFDCC), the governing body of the San Francisco Democratic Party , is a county central committee of the California Democratic Party for San Francisco. The SFDCC is elected from the two Assembly districts in San Francisco and consists of 24 members, with a 14/10 member split between the two Assembly districts based on number of registered Democrats. [ 26 ] [ 27 ] Republican Party [ edit ] The San Francisco Republican Executive Committee is the governing party of the San Francisco Republican Party. It is a county committee of the California Republican Party . The executive committee are elected every four years by party delegates from two Assembly districts. [ 28 ] Libertarian Party [ edit ] Every member of the Libertarian Party of San Francisco, the county affiliate of the Libertarian Party of California , is automatically a member of the Central Committee. Four officers are elected from this Central Committee. [ 29 ] Green Party [ edit ] The San Francisco Green Party, the county affiliate of the Green Party of California , elects a County Council of seven individuals every 2 years. [ 30 ] See also [ edit ] Government of California References [ edit ] ^ Baldassare, Mark (1998). When Government Fails: The Orange County Bankruptcy . Public Policy Institute of California / University of California Press . p. 50. ISBN 978-0-520-21486-6 . LCCN 97032806 . ^ \"SF Open Book\" . Retrieved January 14, 2020 . ^ \"Ranked-Choice Voting\" . City and County of San Francisco, Department of Elections. Archived from the original on August 20, 2009 . Retrieved August 8, 2009 . ^ a b City and County of San Francisco Municipal Code art. III [ dead link ] ^ Charter of the City and County of San Francisco, article 1, section 1.101 ^ \"Board of Supervisors District Information\" . City and County of San Francisco, Board of Supervisors. Archived from the original on July 14, 2007 . Retrieved January 29, 2006 . ^ Charter of the City and County of San Francisco, article 6, section 6.100 ^ a b c d \"City's Organizational Chart\" . Retrieved June 21, 2018 . ^ \"Board of Supervisors: Divisions\" . Retrieved May 20, 2014 . ^ \"Clerk of the Board\" . Retrieved May 20, 2014 . ^ \"Office of the Legislative Analyst\" . Retrieved May 20, 2014 . ^ \"Office of Transgender Initiatives\" . City and County of San Francisco . Retrieved June 30, 2019 . ^ \"California Sales and Use Tax Rates by County and City\" (PDF) . California Department of Tax and Fee Administration . October 1, 2021. Archived (PDF) from the original on June 24, 2021 . Retrieved November 26, 2021 . ^ \"District Taxes, Rates, and Effective Dates\" (PDF) . California Department of Tax and Fee Administration . October 1, 2021. Archived (PDF) from the original on June 24, 2021 . Retrieved November 27, 2021 . ^ a b \"Local Transportation Funding Sources – BayRail Alliance\" . Archived from the original on May 25, 2017. ^ \"AB 1107 Update\" (PDF) . AC Transit . Retrieved November 27, 2021 . ^ \"Board of Supervisors\" . Archived from the original on November 14, 2008 . Retrieved December 5, 2008 . ^ \"Archived copy\" (PDF) . Archived from the original (PDF) on November 14, 2008 . Retrieved December 5, 2008 . {{ cite web }} :  CS1 maint: archived copy as title ( link ) ^ California Government Code § 25132. ^ California Government Code § 36900 et seq. ^ \"Doing Business with the Department of Public Health\" . www.sfdph.org . Retrieved November 22, 2017 . ^ \"San Francisco becomes first major U.S. city to ban e-cigarettes — NBC News\" . apple.news . Retrieved June 26, 2019 . ^ \"A Science Odyssey: People and Discoveries: Bubonic plague hits San Francisco\" . www.pbs.org . Retrieved December 8, 2017 . ^ a b c Kalisch, Philip A. (1972). \"The Black Death in Chinatown: Plague and Politics in San Francisco 1900-1904\". Journal of the Southwest . 14 (2): 113–136. JSTOR 40168068 . PMID 11614219 . ^ a b Chang, Iris (2003). The Chinese In America . United States of America: Penguin Group. pp. 139–140. ISBN 978-0-670-03123-8 . ^ California Elections Code § 7204 ^ San Francisco Democratic County Central Committee Bylaws [ permanent dead link ] , 23 January 2013, Article 2, § 1(a)(1) ^ \"Meet Your SFGOP\" . San Francisco Republican Party . Retrieved August 5, 2020 . ^ \"About Us | Libertarian Party of San Francisco\" . www.lpsf.org . Retrieved August 5, 2020 . ^ \"San Francisco Green Party - About Use\" . External links [ edit ] Wikimedia Commons has media related to Government of San Francisco . SFGov.org , official site of City and County of San Francisco San Francisco Voter Pamphlets and Propositions [ permanent dead link ] dating back to 1907 at the San Francisco Public Library San Francisco Charter and Municipal Codes Archived August 1, 2014, at the Wayback Machine from American Legal Publishing San Francisco Decoded (unofficial Charter and Municipal Codes) from the OpenGov Foundation San Francisco Data \"San Francisco\" . U.S. City Open Data Census . UK: Open Knowledge Foundation . v t e City and County of San Francisco History Timeline Culture Landmarks Media Museums Neighborhoods Notable people Skyscrapers Theatres Universities Government City Hall Mayor Board of Supervisors Superior Court San Francisco consulates Sister cities Arts Commission Board of Education City Attorney District Attorney Ethics Commission Fire Department Human Rights Commission San Francisco International Airport Municipal Transportation Agency Police Commission Police Department Port of San Francisco Public Library Public Utilities Commission Public Works Recreation & Parks Department Sheriff's Department Transportation Authority San Francisco Unified School District Youth Commission Transit AC Transit Amtrak California BART Caltrain Clipper card Golden Gate Ferry Golden Gate Transit SamTrans San Francisco Bay Ferry San Francisco Municipal Railway SolTrans WestCAT Parks Alamo Square Balboa Park Buena Vista Park Candlestick Point Corona Heights Park Dolores Park Glen Canyon Park Golden Gate National Recreation Area Golden Gate Park Grand View Park Lafayette Park Lake Merced Lincoln Park McLaren Park Mountain Lake Park Panhandle Pine Lake Park Pioneer Park / Coit Tower The Presidio San Francisco Maritime Stern Grove South Park Sutro Heights Park Washington Square Park Yerba Buena Gardens Related articles Golden Gate Bridge Fisherman's Wharf Alcatraz Island Cable Cars Topics Category Portal v t e Government of  California Regions San Fernando Valley Counties Alameda Alpine Amador Butte Calaveras Colusa Contra Costa Del Norte El Dorado Fresno Glenn Humboldt Imperial Inyo Kern Kings Lake Lassen Los Angeles Madera Marin Mariposa Mendocino Merced Modoc Mono Monterey Napa Nevada Orange Placer Plumas Riverside Sacramento San Benito San Bernardino San Diego San Francisco San Joaquin San Luis Obispo San Mateo Santa Barbara Santa Clara Santa Cruz Shasta Sierra Siskiyou Solano Sonoma Stanislaus Sutter Tehama Trinity Tulare Tuolumne Ventura Yolo Yuba Cities and towns Los Angeles San Diego San Jose San Francisco Fresno Sacramento Long Beach Oakland Bakersfield Anaheim Santa Ana Riverside Stockton Chula Vista Fremont Irvine San Bernardino Modesto Oxnard Fontana Moreno Valley Glendale Huntington Beach Santa Clarita Garden Grove Santa Rosa Oceanside Rancho Cucamonga Ontario Lancaster Elk Grove Palmdale Corona Salinas Pomona Torrance Hayward Escondido Sunnyvale Pasadena Fullerton Orange Thousand Oaks Visalia Simi Valley Concord Roseville Santa Clara Vallejo Victorville El Monte Berkeley Downey Costa Mesa Inglewood Ventura Fairfield Santa Maria Redding Santa Monica Santa Barbara Chico Merced Napa Redwood City Yuba City Madera Santa Cruz San Rafael Woodland Hanford San Luis Obispo El Centro Lompoc Martinez Hollister Eureka Susanville Ukiah Oroville Red Bluff Auburn Marysville Piedmont Placerville Yreka Crescent City Willows Colusa Sonora Lakeport Jackson Nevada City Alturas Retrieved from \" https://en.wikipedia.org/w/index.php?title=Government_of_San_Francisco&oldid=1234576832 \" Categories : Government of San Francisco County government in California Hidden categories: All articles with dead external links Articles with dead external links from November 2013 CS1 maint: archived copy as title Articles with dead external links from September 2017 Articles with permanently dead external links Articles with short description Short description is different from Wikidata Use mdy dates from November 2023 Use American English from November 2023 All Wikipedia articles written in American English Articles containing potentially dated statements from 2022 All articles containing potentially dated statements Commons category link from Wikidata Articles with dead external links from June 2024 Webarchive template wayback links This page was last edited on 15 July 2024, at 02:34 (UTC) . Text is available under the Creative Commons Attribution-ShareAlike License 4.0 ;\n",
      "additional terms may apply. By using this site, you agree to the Terms of Use and Privacy Policy . Wikipedia® is a registered trademark of the Wikimedia Foundation, Inc. , a non-profit organization. Privacy policy About Wikipedia Disclaimers Contact Wikipedia Code of Conduct Developers Statistics Cookie statement Mobile view Open Gov | SFGOV Skip to main content Warning: JavaScript is OFF This website offers functionality that requires JavaScript. To easily turn ON JavaScript you can follow the instructions provided on the following websites: Enable JavaScript and WikiHow Main menu Home RESIDENTS BUSINESS OPEN GOV VISITORS ONLINE SERVICES HELP Download viewers, Text Only, Listen Now City and County of San Francisco Logo Search form Search City Seal of the City and County of San Francisco SFGOV Search form Search Main menu Home RESIDENTS BUSINESS OPEN GOV VISITORS ONLINE SERVICES HELP You are here Home Open Gov <img src=\" http://nojsstats.appspot.com/UA-8632268-1/sfgov.org \"> Open Gov OpenGov San Francisco city government is dedicated to transparency and serving its residents Select Category Stay Connected SHARE THIS - Service 24x7 City Seal of the City and County of San Francisco City and County of San Francisco Employee Gateway | SFGOV Skip to main content Warning: JavaScript is OFF This website offers functionality that requires JavaScript. To easily turn ON JavaScript you can follow the instructions provided on the following websites: Enable JavaScript and WikiHow Main menu Home Download viewers, Text Only, Listen Now City and County of San Francisco Logo Search form Search City Seal of the City and County of San Francisco SFGOV Search form Search Main menu Home You are here Home Employee Gateway Employee Gateway Citywide Enterprise Applications SF Employee Portal Employee Login SF User Support SF Employee Portal MyApps Portal City Apps and Password Reset Emergency Response Requests & Reporting ICS Form 214 ICS Form 213RR ICS Form 213RR City Job Opportunities, Benefits, and Programs Whistleblower Program Report Improper Activities WageWorks Commuter Benefits SF Careers Employment Opportunities Employee/Retiree Health Benefits Medical, Dental, Vision, Wellness P&A Group Flexible Spending Accounts (FSAs) For More Information on: Controller's Office Payroll Division Department of Human Resources Employee Retirement Benefits Employee Classification & Compensation SF OpenBook Income Verification – The Work Number Controller’s Office Systems Division SHARE THIS Stay Connected - Service 24x7 City Seal of the City and County of San Francisco City and County of San Francisco City and County of San Francisco Skip to main content English Español 中文 Filipino Menu Services Departments Search Latest Find jobs with the City Join us! “Sunset over City Hall” by Sergio Ruiz , CC BY Services Activities Things to do in San Francisco. Building Construction resources and property information. Business Starting, owning, and closing a business. Disability Services and resources for the disability community in San Francisco. Food Get free or low-cost food, meals and find local food pantries. Government Get personal records, pay taxes or fines, work or volunteer with the City. Health Getting medical care, insurance and mental health support. Homelessness Find City and external resources for people experiencing homelessness. Housing Finding and staying in housing. Immigrants Resources and programs helpful to immigrants. Jobs Find jobs, fellowships, and internships with the City of San Francisco. Problems and complaints Tell us about issues. Safety Personal safety and preparedness. Transportation Driving, parking, buses, Muni, and paratransit. News Notice of Town Hall Meeting September 13, 2024 Mayor London Breed Names Genny Lim as San Francisco's Poet Laureate September 6, 2024 The Department of Elections Enhances Youth Engagement for the November 5 Election September 6, 2024 Mayor London Breed Celebrates the Grand Opening of New 100% Affordable Housing Project in San Francisco's Excelsior District September 5, 2024 See more news Elected Officials 2,1 London Breed Mayor London Nicole Breed is the 45th mayor of the City and County of San Francisco. Mayor Breed is the first African-American woman Mayor in San Francisco’s history. Board of Supervisors 2,1 Aaron Peskin President of the Board, Supervisor District 3 2,1 Connie Chan Supervisor District 1 2,1 Catherine Stefani Supervisor District 2 2,1 Joel Engardio Supervisor District 4 2,1 Dean Preston Supervisor District 5 2,1 Matt Dorsey Supervisor District 6 2,1 Myrna Melgar Supervisor District 7 2,1 Rafael Mandelman Supervisor District 8 2,1 Hillary Ronen Supervisor District 9 2,1 Shamann Walton Supervisor District 10 2,1 Ahsha Safai Supervisor District 11 The Board establishes policy and adopts legislation to meet constituents' needs. Find your supervisor Elected Officers 2,1 Manohar Raju Public Defender 2,1 Brooke Jenkins District Attorney 2,1 Paul Miyamoto Sheriff 2,1 José Cisneros Treasurer 2,1 Joaquín Torres Assessor-Recorder 2,1 David Chiu San Francisco City Attorney You must have JavaScript enabled to use this form. Was this page helpful? Yes No Report something wrong with this page Yes What was helpful about this page? We cannot reply individually to all feedback. If you need assistance, call 311. No What's wrong with this page? We cannot reply individually to all feedback. If you need assistance, call 311. Report something wrong with this page What's wrong with this page? We cannot reply individually to all feedback. If you need assistance, call 311. Leave this field blank Footer menu Jobs with the City Contact us About this website Footer Bottom Disclaimer Privacy policy City and County of San Francisco Back to top \n"
     ]
    }
   ],
   "source": [
    "print(text_data)"
   ]
  },
  {
   "cell_type": "code",
   "execution_count": null,
   "metadata": {},
   "outputs": [],
   "source": []
  }
 ],
 "metadata": {
  "kernelspec": {
   "display_name": "Python 3.9.12 ('base')",
   "language": "python",
   "name": "python3"
  },
  "language_info": {
   "codemirror_mode": {
    "name": "ipython",
    "version": 3
   },
   "file_extension": ".py",
   "mimetype": "text/x-python",
   "name": "python",
   "nbconvert_exporter": "python",
   "pygments_lexer": "ipython3",
   "version": "3.9.12"
  },
  "orig_nbformat": 4,
  "vscode": {
   "interpreter": {
    "hash": "3944adbe1e3ec156c0f5795bdbd105db64d247bd9fdfcaf876cad111492de9f3"
   }
  }
 },
 "nbformat": 4,
 "nbformat_minor": 2
}
